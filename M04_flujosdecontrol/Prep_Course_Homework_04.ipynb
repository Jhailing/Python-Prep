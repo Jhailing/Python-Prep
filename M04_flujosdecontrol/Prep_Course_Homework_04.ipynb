{
 "cells": [
  {
   "attachments": {},
   "cell_type": "markdown",
   "metadata": {},
   "source": [
    "## Flujos de Control"
   ]
  },
  {
   "attachments": {},
   "cell_type": "markdown",
   "metadata": {},
   "source": [
    "1) Crear una variable que contenga un elemento del conjunto de números enteros y luego imprimir por pantalla si es mayor o menor a cero"
   ]
  },
  {
   "cell_type": "code",
   "execution_count": 1,
   "metadata": {},
   "outputs": [
    {
     "name": "stdout",
     "output_type": "stream",
     "text": [
      "El número es mayor\n",
      "El número es mayor\n",
      "El número es mayor\n",
      "Llego al límite\n",
      "El número es mayor\n"
     ]
    }
   ],
   "source": [
    "array = [6, 8, 18, 0, 5]\n",
    "for num in array:\n",
    "    if (num > 0):\n",
    "        print('El número es mayor')\n",
    "    elif (num <= 0):\n",
    "        print('Llego al límite')\n",
    "    else:\n",
    "        print('No hay ceros en este array')\n"
   ]
  },
  {
   "attachments": {},
   "cell_type": "markdown",
   "metadata": {},
   "source": [
    "2) Crear dos variables y un condicional que informe si son del mismo tipo de dato"
   ]
  },
  {
   "cell_type": "code",
   "execution_count": 5,
   "metadata": {},
   "outputs": [
    {
     "name": "stdout",
     "output_type": "stream",
     "text": [
      "las variables son del mismo tipo de dato\n"
     ]
    }
   ],
   "source": [
    "m1 = \"casa\"\n",
    "m2 = \"perro\"\n",
    "if type(m1) == type(m2):\n",
    "    print('las variables son del mismo tipo de dato')\n",
    "else:\n",
    "    print('Las variable no son del mismo tipo de dato')"
   ]
  },
  {
   "attachments": {},
   "cell_type": "markdown",
   "metadata": {},
   "source": [
    "3) Para los valores enteros del 1 al 20, imprimir por pantalla si es par o impar"
   ]
  },
  {
   "cell_type": "code",
   "execution_count": 6,
   "metadata": {},
   "outputs": [
    {
     "name": "stdout",
     "output_type": "stream",
     "text": [
      "El número 0 es par\n",
      "El número 1 es impar\n",
      "El número 2 es par\n",
      "El número 3 es impar\n",
      "El número 4 es par\n",
      "El número 5 es impar\n",
      "El número 6 es par\n",
      "El número 7 es impar\n",
      "El número 8 es par\n",
      "El número 9 es impar\n",
      "El número 10 es par\n",
      "El número 11 es impar\n",
      "El número 12 es par\n",
      "El número 13 es impar\n",
      "El número 14 es par\n",
      "El número 15 es impar\n",
      "El número 16 es par\n",
      "El número 17 es impar\n",
      "El número 18 es par\n",
      "El número 19 es impar\n"
     ]
    }
   ],
   "source": [
    "## NOTA: En este caso, hacemos uso del range, este genera una secuencia de números que van desde 0 por defecto hasta el número que se pasa como parámetro menos 1. Este ejercicio también puede resolverse con un \"for in\" y colocar las lista de números pero con el range se evita tanto código y se agiliza la información.\n",
    "for i in range(20):\n",
    "    if (i % 2 == 0):\n",
    "        print(\"El número\", i, 'es par')\n",
    "    else:\n",
    "        print(\"El número\", i, 'es impar')"
   ]
  },
  {
   "attachments": {},
   "cell_type": "markdown",
   "metadata": {},
   "source": [
    "4) En un ciclo for mostrar para los valores entre 0 y 5 el resultado de elevarlo a la potencia igual a 3"
   ]
  },
  {
   "cell_type": "code",
   "execution_count": 9,
   "metadata": {},
   "outputs": [
    {
     "name": "stdout",
     "output_type": "stream",
     "text": [
      "0\n",
      "1\n",
      "8\n",
      "27\n",
      "64\n"
     ]
    }
   ],
   "source": [
    "for i in range(5):\n",
    "    print(i **3)"
   ]
  },
  {
   "attachments": {},
   "cell_type": "markdown",
   "metadata": {},
   "source": [
    "5) Crear una variable que contenga un número entero y realizar un ciclo for la misma cantidad de ciclos"
   ]
  },
  {
   "cell_type": "code",
   "execution_count": 11,
   "metadata": {},
   "outputs": [
    {
     "name": "stdout",
     "output_type": "stream",
     "text": [
      "0\n",
      "1\n",
      "2\n",
      "3\n",
      "4\n",
      "5\n",
      "6\n"
     ]
    }
   ],
   "source": [
    "variable = 7\n",
    "for i in range(7):\n",
    "    print(i)\n"
   ]
  },
  {
   "attachments": {},
   "cell_type": "markdown",
   "metadata": {},
   "source": [
    "6) Utilizar un ciclo while para realizar el factorial de un número guardado en una variable, sólo si la variable contiene un número entero mayor a 0"
   ]
  },
  {
   "cell_type": "code",
   "execution_count": 15,
   "metadata": {},
   "outputs": [
    {
     "name": "stdout",
     "output_type": "stream",
     "text": [
      "El factorial de  5 es:  120\n"
     ]
    }
   ],
   "source": [
    "\n",
    "##Importante: El factorial de un número es el producto descendente de dicho número hasta uno o viceversa. Ej: El factorial de 4, es como si dijera: 4*3*2*1 que seria igual a: 4*3=12*2=24*1=24. En este caso, se declaran dos variables aparte de la que se necesitaba, que seria x y f, x porque luego del 0 el conteo debe iniciar en 1 y en esa variable es que se almacenará el resultado del factorial y f representa el factorial.\n",
    " \n",
    "num = 5\n",
    "if num >= 0:\n",
    "    x=1\n",
    "    f=1\n",
    "    while x <= num:\n",
    "        f = f * x\n",
    "        x += 1\n",
    "    print('El factorial de ', num, 'es: ', f)\n",
    "else:\n",
    "    print('No se puede calcular el factorial')\n"
   ]
  },
  {
   "attachments": {},
   "cell_type": "markdown",
   "metadata": {},
   "source": [
    "7) Crear un ciclo for dentro de un ciclo while"
   ]
  },
  {
   "cell_type": "code",
   "execution_count": 20,
   "metadata": {},
   "outputs": [
    {
     "name": "stdout",
     "output_type": "stream",
     "text": [
      "Ciclo while 0:\n",
      "Ciclo for 1\n",
      "Ciclo for 2\n",
      "Ciclo for 3\n",
      "Ciclo for 4\n",
      "Ciclo while 1:\n",
      "Ciclo for 1\n",
      "Ciclo for 2\n",
      "Ciclo for 3\n",
      "Ciclo for 4\n",
      "Ciclo while 2:\n",
      "Ciclo for 1\n",
      "Ciclo for 2\n",
      "Ciclo for 3\n",
      "Ciclo for 4\n",
      "Ciclo while 3:\n",
      "Ciclo for 1\n",
      "Ciclo for 2\n",
      "Ciclo for 3\n",
      "Ciclo for 4\n",
      "Fin del programa\n"
     ]
    }
   ],
   "source": [
    "contador = 0\n",
    "while contador < 4:\n",
    "    print(f'Ciclo while {contador}:')\n",
    "    \n",
    "    for i in range(1, 5): \n",
    "        print(f'Ciclo for {i}')\n",
    "    contador += 1\n",
    "print('Fin del programa')"
   ]
  },
  {
   "attachments": {},
   "cell_type": "markdown",
   "metadata": {},
   "source": [
    "8) Crear un ciclo while dentro de un ciclo for"
   ]
  },
  {
   "cell_type": "code",
   "execution_count": 26,
   "metadata": {},
   "outputs": [
    {
     "name": "stdout",
     "output_type": "stream",
     "text": [
      "Edad: 23\n",
      "Eres mayor, acceso concedido\n",
      "Edad: 34\n",
      "Eres mayor, acceso concedido\n",
      "Edad: 18\n",
      "Eres mayor, acceso concedido\n",
      "Edad: 16\n",
      "Eres menor, acceso denegado\n",
      "Edad: 33\n",
      "Eres mayor, acceso concedido\n"
     ]
    }
   ],
   "source": [
    "edades =[23,34,18,16,33]\n",
    "\n",
    "for i in edades:\n",
    "    print(f'Edad: {i}')\n",
    "    while True:\n",
    "        if (i >= 18):\n",
    "            print('Eres mayor, acceso concedido')\n",
    "            break\n",
    "        else:\n",
    "            print('Eres menor, acceso denegado')\n",
    "            break"
   ]
  },
  {
   "attachments": {},
   "cell_type": "markdown",
   "metadata": {},
   "source": [
    "9) Imprimir los números primos existentes entre 0 y 30"
   ]
  },
  {
   "cell_type": "code",
   "execution_count": null,
   "metadata": {},
   "outputs": [],
   "source": []
  },
  {
   "attachments": {},
   "cell_type": "markdown",
   "metadata": {},
   "source": [
    "10) ¿Se puede mejorar el proceso del punto 9? Utilizar las sentencias break y/ó continue para tal fin"
   ]
  },
  {
   "cell_type": "code",
   "execution_count": null,
   "metadata": {},
   "outputs": [],
   "source": []
  },
  {
   "attachments": {},
   "cell_type": "markdown",
   "metadata": {},
   "source": [
    "11) En los puntos 9 y 10, se diseño un código que encuentra números primos y además se lo optimizó. ¿Es posible saber en qué medida se optimizó?"
   ]
  },
  {
   "cell_type": "code",
   "execution_count": null,
   "metadata": {},
   "outputs": [],
   "source": []
  },
  {
   "attachments": {},
   "cell_type": "markdown",
   "metadata": {},
   "source": [
    "12) Aplicando continue, armar un ciclo while que solo imprima los valores divisibles por 12, dentro del rango de números de 100 a 300"
   ]
  },
  {
   "cell_type": "code",
   "execution_count": null,
   "metadata": {},
   "outputs": [],
   "source": []
  },
  {
   "attachments": {},
   "cell_type": "markdown",
   "metadata": {},
   "source": [
    "13) Utilizar la función **input()** que permite hacer ingresos por teclado, para encontrar números primos y dar la opción al usario de buscar el siguiente"
   ]
  },
  {
   "cell_type": "code",
   "execution_count": null,
   "metadata": {},
   "outputs": [],
   "source": []
  },
  {
   "attachments": {},
   "cell_type": "markdown",
   "metadata": {},
   "source": [
    "14) Crear un ciclo while que encuentre dentro del rango de 100 a 300 el primer número divisible por 3 y además múltiplo de 6"
   ]
  },
  {
   "cell_type": "code",
   "execution_count": null,
   "metadata": {},
   "outputs": [],
   "source": []
  }
 ],
 "metadata": {
  "interpreter": {
   "hash": "c85384e4cb51c8b72350f3a8712cc8351fdc3955e32a27f9b60c6242ab125f01"
  },
  "kernelspec": {
   "display_name": "Python 3 (ipykernel)",
   "language": "python",
   "name": "python3"
  },
  "language_info": {
   "codemirror_mode": {
    "name": "ipython",
    "version": 3
   },
   "file_extension": ".py",
   "mimetype": "text/x-python",
   "name": "python",
   "nbconvert_exporter": "python",
   "pygments_lexer": "ipython3",
   "version": "3.11.6"
  }
 },
 "nbformat": 4,
 "nbformat_minor": 4
}
